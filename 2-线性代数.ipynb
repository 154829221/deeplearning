{
 "cells": [
  {
   "cell_type": "markdown",
   "metadata": {},
   "source": [
    "# 第二章 线性代数"
   ]
  },
  {
   "cell_type": "code",
   "execution_count": 10,
   "metadata": {},
   "outputs": [],
   "source": [
    "import numpy as np"
   ]
  },
  {
   "cell_type": "code",
   "execution_count": 11,
   "metadata": {},
   "outputs": [],
   "source": [
    "# 标量\n",
    "s =  5\n",
    "# 向量 \n",
    "v=np.array([1,2])"
   ]
  },
  {
   "cell_type": "code",
   "execution_count": 12,
   "metadata": {},
   "outputs": [],
   "source": [
    "# 矩阵 \n",
    "m = np.array([[1,2], [3,4]]) "
   ]
  },
  {
   "cell_type": "code",
   "execution_count": 13,
   "metadata": {},
   "outputs": [],
   "source": [
    "# 张量 \n",
    "t = np.array([ \n",
    "    [\n",
    "        [1,2,3],\n",
    "        [4,5,6],\n",
    "        [7,8,9]], \n",
    "    [\n",
    "        [11,12,13],\n",
    "        [14,15,16],\n",
    "        [17,18,19]], \n",
    "    [\n",
    "        [21,22,23],\n",
    "        [24,25,26],\n",
    "        [27,28,29]], \n",
    "    [\n",
    "        [121,122,123],\n",
    "        [124,125,126],\n",
    "        [127,128,129]], \n",
    "]) "
   ]
  },
  {
   "cell_type": "code",
   "execution_count": 14,
   "metadata": {},
   "outputs": [
    {
     "name": "stdout",
     "output_type": "stream",
     "text": [
      "标量: 5\n",
      "向量: [1 2]\n",
      "矩阵: [[1 2]\n",
      " [3 4]]\n",
      "张量: [[[  1   2   3]\n",
      "  [  4   5   6]\n",
      "  [  7   8   9]]\n",
      "\n",
      " [[ 11  12  13]\n",
      "  [ 14  15  16]\n",
      "  [ 17  18  19]]\n",
      "\n",
      " [[ 21  22  23]\n",
      "  [ 24  25  26]\n",
      "  [ 27  28  29]]\n",
      "\n",
      " [[121 122 123]\n",
      "  [124 125 126]\n",
      "  [127 128 129]]]\n"
     ]
    }
   ],
   "source": [
    "print(\"标量: \" + str(s)) \n",
    "print(\"向量: \" + str(v)) \n",
    "print(\"矩阵: \" + str(m)) \n",
    "print(\"张量: \" + str(t))"
   ]
  },
  {
   "cell_type": "code",
   "execution_count": 15,
   "metadata": {},
   "outputs": [
    {
     "name": "stdout",
     "output_type": "stream",
     "text": [
      "(4, 3, 3)\n"
     ]
    }
   ],
   "source": [
    "print(t.shape)"
   ]
  },
  {
   "cell_type": "code",
   "execution_count": 16,
   "metadata": {},
   "outputs": [
    {
     "data": {
      "text/plain": [
       "array([[[  1,  11,  21, 121],\n",
       "        [  4,  14,  24, 124],\n",
       "        [  7,  17,  27, 127]],\n",
       "\n",
       "       [[  2,  12,  22, 122],\n",
       "        [  5,  15,  25, 125],\n",
       "        [  8,  18,  28, 128]],\n",
       "\n",
       "       [[  3,  13,  23, 123],\n",
       "        [  6,  16,  26, 126],\n",
       "        [  9,  19,  29, 129]]])"
      ]
     },
     "execution_count": 16,
     "metadata": {},
     "output_type": "execute_result"
    }
   ],
   "source": [
    "t.transpose() "
   ]
  },
  {
   "cell_type": "code",
   "execution_count": 17,
   "metadata": {},
   "outputs": [
    {
     "name": "stdout",
     "output_type": "stream",
     "text": [
      "(3, 3, 4)\n"
     ]
    }
   ],
   "source": [
    "print(t.transpose().shape)"
   ]
  },
  {
   "cell_type": "code",
   "execution_count": 18,
   "metadata": {},
   "outputs": [
    {
     "name": "stdout",
     "output_type": "stream",
     "text": [
      "A: [[1. 2.]\n",
      " [1. 0.]\n",
      " [2. 3.]]\n",
      "A 的转置: [[1. 1. 2.]\n",
      " [2. 0. 3.]]\n",
      "A.shape: (3, 2)\n",
      "A_t.shape: (2, 3)\n"
     ]
    }
   ],
   "source": [
    "A = np.array([[1.0,2.0],[1.0,0.0],[2.0,3.0]]) \n",
    "A_t = A.transpose() \n",
    "print(\"A:\", A) \n",
    "print(\"A 的转置:\", A_t)\n",
    "print(\"A.shape:\",A.shape)\n",
    "print(\"A_t.shape:\",A_t.shape)"
   ]
  },
  {
   "cell_type": "code",
   "execution_count": 19,
   "metadata": {},
   "outputs": [
    {
     "name": "stdout",
     "output_type": "stream",
     "text": [
      "矩阵相加： [[ 7.  9.]\n",
      " [11. 13.]]\n"
     ]
    }
   ],
   "source": [
    "a = np.array([[1.0,2.0],[3.0,4.0]]) \n",
    "b = np.array([[6.0,7.0],[8.0,9.0]])\n",
    "print(\"矩阵相加：\", a + b)"
   ]
  },
  {
   "cell_type": "code",
   "execution_count": 20,
   "metadata": {},
   "outputs": [
    {
     "name": "stdout",
     "output_type": "stream",
     "text": [
      "按矩阵乘法规则： [[16.  2.]\n",
      " [ 1.  2.]]\n",
      "按逐元素相乘： [[1. 6.]\n",
      " [5. 0.]]\n",
      "按逐元素相乘： [[1. 6.]\n",
      " [5. 0.]]\n",
      "向量内积： 14.0\n"
     ]
    }
   ],
   "source": [
    "m1 = np.array([[1.0,3.0],[1.0,0.0]])\n",
    "m2 = np.array([[1.0,2.0],[5.0,0.0]])\n",
    "print(\"按矩阵乘法规则：\", np.dot(m1, m2))\n",
    "print(\"按逐元素相乘：\", np.multiply(m1, m2))\n",
    "print(\"按逐元素相乘：\", m1*m2)\n",
    "v1 = np.array([1.0,2.0])\n",
    "v2 = np.array([4.0,5.0])\n",
    "print(\"向量内积：\", np.dot(v1, v2))\n"
   ]
  },
  {
   "cell_type": "code",
   "execution_count": 21,
   "metadata": {},
   "outputs": [
    {
     "data": {
      "text/plain": [
       "array([[1., 0., 0.],\n",
       "       [0., 1., 0.],\n",
       "       [0., 0., 1.]])"
      ]
     },
     "execution_count": 21,
     "metadata": {},
     "output_type": "execute_result"
    }
   ],
   "source": [
    "np.identity(3)"
   ]
  },
  {
   "cell_type": "code",
   "execution_count": 22,
   "metadata": {},
   "outputs": [
    {
     "name": "stdout",
     "output_type": "stream",
     "text": [
      "A 的逆矩阵 [[-2.   1. ]\n",
      " [ 1.5 -0.5]]\n",
      "[[1.0000000e+00 4.4408921e-16]\n",
      " [0.0000000e+00 1.0000000e+00]]\n"
     ]
    }
   ],
   "source": [
    "A = [[1.0,2.0],[3.0,4.0]] \n",
    "A_inv = np.linalg.inv(A) \n",
    "print(\"A 的逆矩阵\", A_inv)\n",
    "print(A_inv.dot(A))"
   ]
  },
  {
   "cell_type": "code",
   "execution_count": 23,
   "metadata": {},
   "outputs": [
    {
     "name": "stdout",
     "output_type": "stream",
     "text": [
      "向量 2 范数 3.1622776601683795\n",
      "向量 1 范数 4.0\n",
      "向量无穷范数 3.0\n"
     ]
    }
   ],
   "source": [
    "a = np.array([1.0,3.0]) \n",
    "print(\"向量 2 范数\", np.linalg.norm(a,ord=2)) \n",
    "print(\"向量 1 范数\", np.linalg.norm(a,ord=1)) \n",
    "print(\"向量无穷范数\", np.linalg.norm(a,ord=np.inf))"
   ]
  },
  {
   "cell_type": "code",
   "execution_count": 60,
   "metadata": {
    "scrolled": true
   },
   "outputs": [
    {
     "name": "stdout",
     "output_type": "stream",
     "text": [
      "向量 2 范数 3.618033988749895\n",
      "向量 1 范数 4.0\n",
      "向量无穷范数 4.0\n",
      "矩阵 F 范数 3.872983346207417\n"
     ]
    }
   ],
   "source": [
    "a = np.array([[1.0,2.0],[3.0,1.0]])\n",
    "print(\"向量 2 范数\", np.linalg.norm(a,ord=2))        #\n",
    "print(\"向量 1 范数\", np.linalg.norm(a,ord=1))        #列相加取最大\n",
    "print(\"向量无穷范数\", np.linalg.norm(a,ord=np.inf)) #行相加取最大\n",
    "print(\"矩阵 F 范数\", np.linalg.norm(a,ord=\"fro\"))"
   ]
  },
  {
   "cell_type": "code",
   "execution_count": 61,
   "metadata": {},
   "outputs": [
    {
     "data": {
      "text/plain": [
       "3.872983346207417"
      ]
     },
     "execution_count": 61,
     "metadata": {},
     "output_type": "execute_result"
    }
   ],
   "source": [
    "#矩阵 F 范数\n",
    "np.sqrt(1+9+4+1)"
   ]
  },
  {
   "cell_type": "code",
   "execution_count": 77,
   "metadata": {},
   "outputs": [
    {
     "name": "stdout",
     "output_type": "stream",
     "text": [
      "原始矩阵的特征值\n",
      "eigenvalue= [13.09016994  1.90983006]\n",
      "featurevector= [[ 0.85065081 -0.52573111]\n",
      " [ 0.52573111  0.85065081]]\n"
     ]
    }
   ],
   "source": [
    "#向量2范数\n",
    "eigenvalue,featurevector=np.linalg.eig(np.dot(a.T,a))\n",
    "# a转置乘以a 求特征值，最大特征值开平方。\n",
    "print(\"原始矩阵的特征值\")\n",
    "print(\"eigenvalue=\",eigenvalue)\n",
    "print(\"featurevector=\",featurevector)"
   ]
  },
  {
   "cell_type": "code",
   "execution_count": 79,
   "metadata": {},
   "outputs": [
    {
     "data": {
      "text/plain": [
       "3.6180339882317303"
      ]
     },
     "execution_count": 79,
     "metadata": {},
     "output_type": "execute_result"
    }
   ],
   "source": [
    "np.sqrt(13.09016994)"
   ]
  },
  {
   "cell_type": "code",
   "execution_count": 80,
   "metadata": {},
   "outputs": [],
   "source": [
    "#目前给我的感觉是之所以机器学习中使用F范数，很可能的原因是计算上比较简单。因为求特征值操作可能有更大的计算量耗损。同样能达到让矩阵正则化的效果，不如用F范数更加简单。"
   ]
  },
  {
   "cell_type": "code",
   "execution_count": 130,
   "metadata": {},
   "outputs": [
    {
     "name": "stdout",
     "output_type": "stream",
     "text": [
      "[[1. 2. 3.]\n",
      " [4. 5. 6.]\n",
      " [7. 8. 9.]]\n"
     ]
    },
    {
     "data": {
      "text/plain": [
       "array([[ 0.17757009,  1.88785047,  3.59813084],\n",
       "       [ 1.88785047,  4.43925234,  6.99065421],\n",
       "       [ 3.59813084,  6.99065421, 10.38317757]])"
      ]
     },
     "execution_count": 130,
     "metadata": {},
     "output_type": "execute_result"
    }
   ],
   "source": [
    "A = np.array([[1.0,2.0,3.0],\n",
    "[4.0,5.0,6.0],\n",
    "[7.0,8.0,9.0]])\n",
    "C = np.dot(A.T, A)\n",
    "print(C)\n",
    "vals, vecs = np.linalg.eig(C)\n",
    "Lambda = np.diag(vals)\n",
    "np.dot(np.dot(vecs, Lambda), vecs.T) # 与C=A.T*A相等\n",
    "#不是所有的矩阵都有特征值分解\n",
    "#在某些情况下，实矩阵的特征值分解可能会得到复矩阵"
   ]
  },
  {
   "cell_type": "code",
   "execution_count": 143,
   "metadata": {},
   "outputs": [
    {
     "name": "stdout",
     "output_type": "stream",
     "text": [
      "[[202 -73 -51 -22 -77]\n",
      " [-73  79  65   2  87]\n",
      " [-51  65  98 -56  99]\n",
      " [-22   2 -56  84 -46]\n",
      " [-77  87  99 -46 132]]\n"
     ]
    },
    {
     "data": {
      "text/plain": [
       "array([[202., -73., -51., -22., -77.],\n",
       "       [-73.,  79.,  65.,   2.,  87.],\n",
       "       [-51.,  65.,  98., -56.,  99.],\n",
       "       [-22.,   2., -56.,  84., -46.],\n",
       "       [-77.,  87.,  99., -46., 132.]])"
      ]
     },
     "execution_count": 143,
     "metadata": {},
     "output_type": "execute_result"
    }
   ],
   "source": [
    "A = np.random.randint(-10,10,(5,5))\n",
    "C = np.dot(A.T, A)\n",
    "# 矩阵转置和矩阵的乘积，必有特征值分解\n",
    "print(C)\n",
    "vals, vecs = np.linalg.eig(C)\n",
    "Lambda = np.diag(vals)\n",
    "np.dot(np.dot(vecs, Lambda), vecs.T) # 与C=A.T*A相等"
   ]
  }
 ],
 "metadata": {
  "kernelspec": {
   "display_name": "Python 3",
   "language": "python",
   "name": "python3"
  },
  "language_info": {
   "codemirror_mode": {
    "name": "ipython",
    "version": 3
   },
   "file_extension": ".py",
   "mimetype": "text/x-python",
   "name": "python",
   "nbconvert_exporter": "python",
   "pygments_lexer": "ipython3",
   "version": "3.7.6"
  }
 },
 "nbformat": 4,
 "nbformat_minor": 4
}
