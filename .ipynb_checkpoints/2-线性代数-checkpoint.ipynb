{
 "cells": [
  {
   "cell_type": "markdown",
   "metadata": {},
   "source": [
    "# 第二章 线性代数"
   ]
  },
  {
   "cell_type": "code",
   "execution_count": 3,
   "metadata": {},
   "outputs": [],
   "source": [
    "import numpy as np"
   ]
  },
  {
   "cell_type": "code",
   "execution_count": 9,
   "metadata": {},
   "outputs": [],
   "source": [
    "# 标量\n",
    "s =  5\n",
    "# 向量 \n",
    "v=np.array([1,2])"
   ]
  },
  {
   "cell_type": "code",
   "execution_count": 10,
   "metadata": {},
   "outputs": [],
   "source": [
    "# 矩阵 \n",
    "m = np.array([[1,2], [3,4]]) "
   ]
  },
  {
   "cell_type": "code",
   "execution_count": 24,
   "metadata": {},
   "outputs": [],
   "source": [
    "# 张量 \n",
    "t = np.array([ \n",
    "    [\n",
    "        [1,2,3],\n",
    "        [4,5,6],\n",
    "        [7,8,9]], \n",
    "    [\n",
    "        [11,12,13],\n",
    "        [14,15,16],\n",
    "        [17,18,19]], \n",
    "    [\n",
    "        [21,22,23],\n",
    "        [24,25,26],\n",
    "        [27,28,29]], \n",
    "    [\n",
    "        [121,122,123],\n",
    "        [124,125,126],\n",
    "        [127,128,129]], \n",
    "]) "
   ]
  },
  {
   "cell_type": "code",
   "execution_count": 25,
   "metadata": {},
   "outputs": [
    {
     "name": "stdout",
     "output_type": "stream",
     "text": [
      "标量: 5\n",
      "向量: [1 2]\n",
      "矩阵: [[1 2]\n",
      " [3 4]]\n",
      "张量: [[[  1   2   3]\n",
      "  [  4   5   6]\n",
      "  [  7   8   9]]\n",
      "\n",
      " [[ 11  12  13]\n",
      "  [ 14  15  16]\n",
      "  [ 17  18  19]]\n",
      "\n",
      " [[ 21  22  23]\n",
      "  [ 24  25  26]\n",
      "  [ 27  28  29]]\n",
      "\n",
      " [[121 122 123]\n",
      "  [124 125 126]\n",
      "  [127 128 129]]]\n"
     ]
    }
   ],
   "source": [
    "print(\"标量: \" + str(s)) \n",
    "print(\"向量: \" + str(v)) \n",
    "print(\"矩阵: \" + str(m)) \n",
    "print(\"张量: \" + str(t))"
   ]
  },
  {
   "cell_type": "code",
   "execution_count": 26,
   "metadata": {},
   "outputs": [
    {
     "name": "stdout",
     "output_type": "stream",
     "text": [
      "(4, 3, 3)\n"
     ]
    }
   ],
   "source": [
    "print(t.shape)"
   ]
  },
  {
   "cell_type": "code",
   "execution_count": 28,
   "metadata": {},
   "outputs": [
    {
     "data": {
      "text/plain": [
       "array([[[  1,  11,  21, 121],\n",
       "        [  4,  14,  24, 124],\n",
       "        [  7,  17,  27, 127]],\n",
       "\n",
       "       [[  2,  12,  22, 122],\n",
       "        [  5,  15,  25, 125],\n",
       "        [  8,  18,  28, 128]],\n",
       "\n",
       "       [[  3,  13,  23, 123],\n",
       "        [  6,  16,  26, 126],\n",
       "        [  9,  19,  29, 129]]])"
      ]
     },
     "execution_count": 28,
     "metadata": {},
     "output_type": "execute_result"
    }
   ],
   "source": [
    "t.transpose() "
   ]
  },
  {
   "cell_type": "code",
   "execution_count": 31,
   "metadata": {},
   "outputs": [
    {
     "name": "stdout",
     "output_type": "stream",
     "text": [
      "(3, 3, 4)\n"
     ]
    }
   ],
   "source": [
    "print(t.transpose().shape)"
   ]
  },
  {
   "cell_type": "code",
   "execution_count": 36,
   "metadata": {},
   "outputs": [
    {
     "name": "stdout",
     "output_type": "stream",
     "text": [
      "A: [[1. 2.]\n",
      " [1. 0.]\n",
      " [2. 3.]]\n",
      "A 的转置: [[1. 1. 2.]\n",
      " [2. 0. 3.]]\n",
      "A.shape: (3, 2)\n",
      "A_t.shape: (2, 3)\n"
     ]
    }
   ],
   "source": [
    "A = np.array([[1.0,2.0],[1.0,0.0],[2.0,3.0]]) \n",
    "A_t = A.transpose() \n",
    "print(\"A:\", A) \n",
    "print(\"A 的转置:\", A_t)\n",
    "print(\"A.shape:\",A.shape)\n",
    "print(\"A_t.shape:\",A_t.shape)"
   ]
  },
  {
   "cell_type": "code",
   "execution_count": 38,
   "metadata": {},
   "outputs": [
    {
     "name": "stdout",
     "output_type": "stream",
     "text": [
      "矩阵相加： [[ 7.  9.]\n",
      " [11. 13.]]\n"
     ]
    }
   ],
   "source": [
    "a = np.array([[1.0,2.0],[3.0,4.0]]) \n",
    "b = np.array([[6.0,7.0],[8.0,9.0]])\n",
    "print(\"矩阵相加：\", a + b)"
   ]
  },
  {
   "cell_type": "code",
   "execution_count": 39,
   "metadata": {},
   "outputs": [
    {
     "name": "stdout",
     "output_type": "stream",
     "text": [
      "按矩阵乘法规则： [[16.  2.]\n",
      " [ 1.  2.]]\n",
      "按逐元素相乘： [[1. 6.]\n",
      " [5. 0.]]\n",
      "按逐元素相乘： [[1. 6.]\n",
      " [5. 0.]]\n",
      "向量内积： 14.0\n"
     ]
    }
   ],
   "source": [
    "m1 = np.array([[1.0,3.0],[1.0,0.0]])\n",
    "m2 = np.array([[1.0,2.0],[5.0,0.0]])\n",
    "print(\"按矩阵乘法规则：\", np.dot(m1, m2))\n",
    "print(\"按逐元素相乘：\", np.multiply(m1, m2))\n",
    "print(\"按逐元素相乘：\", m1*m2)\n",
    "v1 = np.array([1.0,2.0])\n",
    "v2 = np.array([4.0,5.0])\n",
    "print(\"向量内积：\", np.dot(v1, v2))\n"
   ]
  },
  {
   "cell_type": "code",
   "execution_count": 41,
   "metadata": {},
   "outputs": [
    {
     "data": {
      "text/plain": [
       "array([[1., 0., 0.],\n",
       "       [0., 1., 0.],\n",
       "       [0., 0., 1.]])"
      ]
     },
     "execution_count": 41,
     "metadata": {},
     "output_type": "execute_result"
    }
   ],
   "source": [
    "np.identity(3)"
   ]
  },
  {
   "cell_type": "code",
   "execution_count": 44,
   "metadata": {},
   "outputs": [
    {
     "name": "stdout",
     "output_type": "stream",
     "text": [
      "A 的逆矩阵 [[-2.   1. ]\n",
      " [ 1.5 -0.5]]\n",
      "[[1.0000000e+00 4.4408921e-16]\n",
      " [0.0000000e+00 1.0000000e+00]]\n"
     ]
    }
   ],
   "source": [
    "A = [[1.0,2.0],[3.0,4.0]] \n",
    "A_inv = np.linalg.inv(A) \n",
    "print(\"A 的逆矩阵\", A_inv)\n",
    "print(A_inv.dot(A))"
   ]
  },
  {
   "cell_type": "code",
   "execution_count": 48,
   "metadata": {},
   "outputs": [
    {
     "name": "stdout",
     "output_type": "stream",
     "text": [
      "向量 2 范数 3.1622776601683795\n",
      "向量 1 范数 4.0\n",
      "向量无穷范数 3.0\n"
     ]
    }
   ],
   "source": [
    "a = np.array([1.0,3.0]) \n",
    "print(\"向量 2 范数\", np.linalg.norm(a,ord=2)) \n",
    "print(\"向量 1 范数\", np.linalg.norm(a,ord=1)) \n",
    "print(\"向量无穷范数\", np.linalg.norm(a,ord=np.inf))"
   ]
  },
  {
   "cell_type": "code",
   "execution_count": 51,
   "metadata": {},
   "outputs": [
    {
     "name": "stdout",
     "output_type": "stream",
     "text": [
      "向量 2 范数 3.618033988749895\n",
      "向量 1 范数 4.0\n",
      "向量无穷范数 4.0\n",
      "矩阵 F 范数 3.872983346207417\n"
     ]
    }
   ],
   "source": [
    "a = np.array([[1.0,3.0],[2.0,1.0]])\n",
    "print(\"向量 2 范数\", np.linalg.norm(a,ord=2)) \n",
    "print(\"向量 1 范数\", np.linalg.norm(a,ord=1)) \n",
    "print(\"向量无穷范数\", np.linalg.norm(a,ord=np.inf))\n",
    "print(\"矩阵 F 范数\", np.linalg.norm(a,ord=\"fro\"))"
   ]
  },
  {
   "cell_type": "code",
   "execution_count": null,
   "metadata": {},
   "outputs": [],
   "source": []
  }
 ],
 "metadata": {
  "kernelspec": {
   "display_name": "Python 3",
   "language": "python",
   "name": "python3"
  },
  "language_info": {
   "codemirror_mode": {
    "name": "ipython",
    "version": 3
   },
   "file_extension": ".py",
   "mimetype": "text/x-python",
   "name": "python",
   "nbconvert_exporter": "python",
   "pygments_lexer": "ipython3",
   "version": "3.7.6"
  }
 },
 "nbformat": 4,
 "nbformat_minor": 4
}
